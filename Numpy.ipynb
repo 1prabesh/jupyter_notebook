{
 "cells": [
  {
   "cell_type": "code",
   "execution_count": 39,
   "id": "097b8779",
   "metadata": {},
   "outputs": [],
   "source": [
    "import numpy as np"
   ]
  },
  {
   "cell_type": "markdown",
   "id": "7ec2d25f",
   "metadata": {},
   "source": [
    "# The basic\n"
   ]
  },
  {
   "cell_type": "code",
   "execution_count": 3,
   "id": "ae55f6ea",
   "metadata": {},
   "outputs": [
    {
     "name": "stdout",
     "output_type": "stream",
     "text": [
      "[1 2 3]\n"
     ]
    }
   ],
   "source": [
    "a=np.array([1,2,3])\n",
    "print(a)"
   ]
  },
  {
   "cell_type": "code",
   "execution_count": 4,
   "id": "a7b3746f",
   "metadata": {},
   "outputs": [
    {
     "name": "stdout",
     "output_type": "stream",
     "text": [
      "[[ 1  2  4]\n",
      " [ 4  5  8]\n",
      " [10 11 12]]\n"
     ]
    }
   ],
   "source": [
    "b=np.array([[1,2,4],[4,5,8],[10,11,12]])\n",
    "print(b)"
   ]
  },
  {
   "cell_type": "code",
   "execution_count": 5,
   "id": "e26ce287",
   "metadata": {},
   "outputs": [
    {
     "data": {
      "text/plain": [
       "(1, 2)"
      ]
     },
     "execution_count": 5,
     "metadata": {},
     "output_type": "execute_result"
    }
   ],
   "source": [
    "#get dimension of an array/matrix\n",
    "a.ndim, b.ndim"
   ]
  },
  {
   "cell_type": "code",
   "execution_count": 6,
   "id": "b54c16fe",
   "metadata": {},
   "outputs": [
    {
     "data": {
      "text/plain": [
       "2"
      ]
     },
     "execution_count": 6,
     "metadata": {},
     "output_type": "execute_result"
    }
   ],
   "source": [
    "b.ndim"
   ]
  },
  {
   "cell_type": "code",
   "execution_count": 7,
   "id": "0a9ca82e",
   "metadata": {},
   "outputs": [
    {
     "data": {
      "text/plain": [
       "(3, 3)"
      ]
     },
     "execution_count": 7,
     "metadata": {},
     "output_type": "execute_result"
    }
   ],
   "source": [
    "#get shape\n",
    "b.shape"
   ]
  },
  {
   "cell_type": "code",
   "execution_count": 12,
   "id": "804663ff",
   "metadata": {},
   "outputs": [
    {
     "data": {
      "text/plain": [
       "dtype('int32')"
      ]
     },
     "execution_count": 12,
     "metadata": {},
     "output_type": "execute_result"
    }
   ],
   "source": [
    "#get size\n",
    "a.dtype # it can also be changed while defining array like a=np.array([1,2,3],dtype='int16')"
   ]
  },
  {
   "cell_type": "code",
   "execution_count": 15,
   "id": "02c8565c",
   "metadata": {},
   "outputs": [
    {
     "data": {
      "text/plain": [
       "dtype('int16')"
      ]
     },
     "execution_count": 15,
     "metadata": {},
     "output_type": "execute_result"
    }
   ],
   "source": [
    "a.dtype"
   ]
  },
  {
   "cell_type": "code",
   "execution_count": 18,
   "id": "95597859",
   "metadata": {},
   "outputs": [
    {
     "data": {
      "text/plain": [
       "4"
      ]
     },
     "execution_count": 18,
     "metadata": {},
     "output_type": "execute_result"
    }
   ],
   "source": [
    "#to get the item size\n",
    "a.itemsize"
   ]
  },
  {
   "cell_type": "code",
   "execution_count": 19,
   "id": "f05423d7",
   "metadata": {},
   "outputs": [
    {
     "data": {
      "text/plain": [
       "12"
      ]
     },
     "execution_count": 19,
     "metadata": {},
     "output_type": "execute_result"
    }
   ],
   "source": [
    "#number of bytes in\n",
    "a.nbytes"
   ]
  },
  {
   "cell_type": "markdown",
   "id": "c3d8c538",
   "metadata": {},
   "source": [
    "# accessing, changing and manipulating the rows and columns datas\n"
   ]
  },
  {
   "cell_type": "code",
   "execution_count": 6,
   "id": "982bf1e1",
   "metadata": {},
   "outputs": [
    {
     "name": "stdout",
     "output_type": "stream",
     "text": [
      "[[ 1  2  3  4  5  6  7]\n",
      " [ 8  9 10 11 12 13 14]]\n"
     ]
    }
   ],
   "source": [
    "b=np.array([[1,2,3,4,5,6,7],[8,9,10,11,12,13,14]])# this is accesssing through numpy array\n",
    "print(b)                     "
   ]
  },
  {
   "cell_type": "code",
   "execution_count": 34,
   "id": "ee986686",
   "metadata": {},
   "outputs": [
    {
     "name": "stdout",
     "output_type": "stream",
     "text": [
      "5\n",
      "12\n"
     ]
    }
   ],
   "source": [
    "#get items of array\n",
    "print(b[0,4])\n",
    "print(b[1,4])"
   ]
  },
  {
   "cell_type": "code",
   "execution_count": 37,
   "id": "262e6685",
   "metadata": {},
   "outputs": [
    {
     "name": "stdout",
     "output_type": "stream",
     "text": [
      "[1 2 3 4 5 6 7]\n"
     ]
    }
   ],
   "source": [
    "#get specific row or column\n",
    "print(b[0,:]) # this syntax is same as MATLab"
   ]
  },
  {
   "cell_type": "code",
   "execution_count": 10,
   "id": "c6778a32",
   "metadata": {},
   "outputs": [
    {
     "name": "stdout",
     "output_type": "stream",
     "text": [
      "[[ 1  2  3  4  5  6  7]\n",
      " [ 8  9 10 11 12 13 14]]\n"
     ]
    }
   ],
   "source": [
    "print(b[:,:])"
   ]
  },
  {
   "cell_type": "code",
   "execution_count": 16,
   "id": "7780d68d",
   "metadata": {},
   "outputs": [
    {
     "name": "stdout",
     "output_type": "stream",
     "text": [
      "[[ 1  2  3  4  5  6  7]\n",
      " [ 8  9 10 11 12 13 14]]\n"
     ]
    }
   ],
   "source": [
    "print(b)"
   ]
  },
  {
   "cell_type": "code",
   "execution_count": 17,
   "id": "67988a77",
   "metadata": {},
   "outputs": [
    {
     "name": "stdout",
     "output_type": "stream",
     "text": [
      "[2 9]\n"
     ]
    }
   ],
   "source": [
    "print(b[:,1])"
   ]
  },
  {
   "cell_type": "code",
   "execution_count": 20,
   "id": "6665b3a5",
   "metadata": {},
   "outputs": [
    {
     "name": "stdout",
     "output_type": "stream",
     "text": [
      "[2, 4, 6]\n"
     ]
    }
   ],
   "source": [
    "# little bit of complex\n",
    "# in list this is simple like\n",
    "mylist=[1,2,3,4,5,6] # if we want to print 2,4,6 then we do like this\n",
    "print(mylist[1:6:2])"
   ]
  },
  {
   "cell_type": "code",
   "execution_count": 22,
   "id": "810aaeb2",
   "metadata": {},
   "outputs": [
    {
     "name": "stdout",
     "output_type": "stream",
     "text": [
      "[[ 1  2  3  4  5  6  7]\n",
      " [ 8  9 10 11 12 13 14]]\n",
      "[2 4 6]\n"
     ]
    }
   ],
   "source": [
    "#but in numpy syantax is bit different\n",
    "print(b)\n",
    "print(b[0, 1:6:2])"
   ]
  },
  {
   "cell_type": "code",
   "execution_count": 23,
   "id": "0eb18501",
   "metadata": {},
   "outputs": [
    {
     "name": "stdout",
     "output_type": "stream",
     "text": [
      "[[ 1  2  3  4  5  5  7]\n",
      " [ 8  9 10 11 12  5 14]]\n"
     ]
    }
   ],
   "source": [
    "# chaning the value of matrxi\n",
    "b[:,5]=5\n",
    "print(b)"
   ]
  },
  {
   "cell_type": "markdown",
   "id": "4b7b643f",
   "metadata": {},
   "source": [
    "# 3D-array\n"
   ]
  },
  {
   "cell_type": "code",
   "execution_count": 4,
   "id": "ca276654",
   "metadata": {},
   "outputs": [
    {
     "name": "stdout",
     "output_type": "stream",
     "text": [
      "[1 2 3]\n",
      "[[1 2 3 4]\n",
      " [4 5 6 7]]\n",
      "[[[ 1  2  3  4]\n",
      "  [ 4  5  6  8]]\n",
      "\n",
      " [[ 9 10 11 12]\n",
      "  [13 14 15 16]]]\n"
     ]
    }
   ],
   "source": [
    "import numpy as np\n",
    "arr=np.array([1,2,3])\n",
    "print(arr)\n",
    "var=np.array([[1,2,3,4],[4,5,6,7]])\n",
    "print(var)\n",
    "car=np.array([[[1,2,3,4],[4,5,6,8]],[[9,10,11,12],[13,14,15,16]]])\n",
    "print(car)"
   ]
  },
  {
   "cell_type": "code",
   "execution_count": 5,
   "id": "79fa867a",
   "metadata": {},
   "outputs": [
    {
     "name": "stdout",
     "output_type": "stream",
     "text": [
      "[11 15]\n"
     ]
    }
   ],
   "source": [
    "print(car[1,:,2]) # firts of all i will see second matrix ,and then i will see all of its row and then see 3rd(2) column element"
   ]
  },
  {
   "cell_type": "markdown",
   "id": "f23e6534",
   "metadata": {},
   "source": [
    "# introduction to different types of matrices\n"
   ]
  },
  {
   "cell_type": "code",
   "execution_count": 8,
   "id": "d1635251",
   "metadata": {},
   "outputs": [
    {
     "data": {
      "text/plain": [
       "array([[0., 0., 0.],\n",
       "       [0., 0., 0.]])"
      ]
     },
     "execution_count": 8,
     "metadata": {},
     "output_type": "execute_result"
    }
   ],
   "source": [
    "np.zeros((2,3))  # zero matrix"
   ]
  },
  {
   "cell_type": "code",
   "execution_count": 9,
   "id": "2bc2268f",
   "metadata": {},
   "outputs": [
    {
     "data": {
      "text/plain": [
       "array([[[1., 1.],\n",
       "        [1., 1.]],\n",
       "\n",
       "       [[1., 1.],\n",
       "        [1., 1.]]])"
      ]
     },
     "execution_count": 9,
     "metadata": {},
     "output_type": "execute_result"
    }
   ],
   "source": [
    "np.ones((2,2,2))  # ones matrix"
   ]
  },
  {
   "cell_type": "code",
   "execution_count": 10,
   "id": "5a61f35f",
   "metadata": {},
   "outputs": [
    {
     "data": {
      "text/plain": [
       "array([[14, 14, 14],\n",
       "       [14, 14, 14]])"
      ]
     },
     "execution_count": 10,
     "metadata": {},
     "output_type": "execute_result"
    }
   ],
   "source": [
    "#any other numbered matrix\n",
    "np.full((2,3),14)"
   ]
  },
  {
   "cell_type": "code",
   "execution_count": 11,
   "id": "c928d8d8",
   "metadata": {},
   "outputs": [
    {
     "data": {
      "text/plain": [
       "array([[0.2300049 , 0.82263926, 0.77424961],\n",
       "       [0.70779185, 0.37886506, 0.6000882 ],\n",
       "       [0.47730827, 0.46220486, 0.36948369],\n",
       "       [0.92403083, 0.84420818, 0.84614856]])"
      ]
     },
     "execution_count": 11,
     "metadata": {},
     "output_type": "execute_result"
    }
   ],
   "source": [
    "# to generate random interger matrix\n",
    "np.random.rand(4,3)"
   ]
  },
  {
   "cell_type": "code",
   "execution_count": 13,
   "id": "f9f70a27",
   "metadata": {},
   "outputs": [
    {
     "data": {
      "text/plain": [
       "array([[2, 3, 1],\n",
       "       [3, 5, 5],\n",
       "       [0, 0, 3]])"
      ]
     },
     "execution_count": 13,
     "metadata": {},
     "output_type": "execute_result"
    }
   ],
   "source": [
    "# random value with integer\n",
    "np.random.randint(6,size=(3,3)) # generates the random values below 5 with size 3x3"
   ]
  },
  {
   "cell_type": "code",
   "execution_count": 15,
   "id": "4f816696",
   "metadata": {},
   "outputs": [
    {
     "data": {
      "text/plain": [
       "array([[1., 0., 0.],\n",
       "       [0., 1., 0.],\n",
       "       [0., 0., 1.]])"
      ]
     },
     "execution_count": 15,
     "metadata": {},
     "output_type": "execute_result"
    }
   ],
   "source": [
    "# identity matrix\n",
    "np.identity(3)"
   ]
  },
  {
   "cell_type": "code",
   "execution_count": 21,
   "id": "723c9760",
   "metadata": {},
   "outputs": [
    {
     "name": "stdout",
     "output_type": "stream",
     "text": [
      "[[1 2 3]\n",
      " [1 2 3]\n",
      " [1 2 3]]\n"
     ]
    },
    {
     "data": {
      "text/plain": [
       "(3, 3)"
      ]
     },
     "execution_count": 21,
     "metadata": {},
     "output_type": "execute_result"
    }
   ],
   "source": [
    "# repeat an array\n",
    "tor=np.array([[1,2,3]])\n",
    "tor.ndim\n",
    "tor.shape\n",
    "new=np.repeat(tor,3,axis=0)\n",
    "print(new)\n",
    "new.shape"
   ]
  },
  {
   "cell_type": "code",
   "execution_count": null,
   "id": "1e0c8ce2",
   "metadata": {},
   "outputs": [],
   "source": []
  }
 ],
 "metadata": {
  "kernelspec": {
   "display_name": "Python 3 (ipykernel)",
   "language": "python",
   "name": "python3"
  },
  "language_info": {
   "codemirror_mode": {
    "name": "ipython",
    "version": 3
   },
   "file_extension": ".py",
   "mimetype": "text/x-python",
   "name": "python",
   "nbconvert_exporter": "python",
   "pygments_lexer": "ipython3",
   "version": "3.10.9"
  }
 },
 "nbformat": 4,
 "nbformat_minor": 5
}
